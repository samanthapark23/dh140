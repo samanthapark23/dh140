{
 "cells": [
  {
   "cell_type": "markdown",
   "id": "7deecb66-888b-4804-a39a-479804c62913",
   "metadata": {},
   "source": [
    "# Exploring Airlines Data \n",
    "##### by Seo Hyun (Samantha) Park"
   ]
  },
  {
   "cell_type": "markdown",
   "id": "b0507413-27e2-43a3-8f2d-dc3ed8bfacbd",
   "metadata": {
    "tags": []
   },
   "source": [
    "## Overview"
   ]
  },
  {
   "cell_type": "markdown",
   "id": "ca84dc8b-1be9-4684-9c6c-60307c55a28b",
   "metadata": {},
   "source": [
    "#### About: This dataset is all about flights in the United States, including information about the number, length, and type of delays. The data is reported for individual months at every major airport for every carrier.\n",
    "#### Link: https://corgis-edu.github.io/corgis/csv/airlines/\n",
    "#### Question: The correlation between number of delayed minutes and seasons"
   ]
  },
  {
   "cell_type": "code",
   "execution_count": 2,
   "id": "0d378cd5-79fa-4e25-b7a0-471113b511fa",
   "metadata": {},
   "outputs": [],
   "source": [
    "import airlines\n",
    "airports = airlines.get_airports()\n",
    "# module import "
   ]
  },
  {
   "cell_type": "code",
   "execution_count": 3,
   "id": "e78fbba9-530e-48e3-b630-b5d912941c03",
   "metadata": {},
   "outputs": [
    {
     "data": {
      "text/plain": [
       "list"
      ]
     },
     "execution_count": 3,
     "metadata": {},
     "output_type": "execute_result"
    }
   ],
   "source": [
    "type (airports)\n",
    "# command to read the datafile"
   ]
  },
  {
   "cell_type": "code",
   "execution_count": 4,
   "id": "88a7d730-b7e8-4483-a338-4c7a8d430719",
   "metadata": {},
   "outputs": [
    {
     "data": {
      "text/plain": [
       "4408"
      ]
     },
     "execution_count": 4,
     "metadata": {},
     "output_type": "execute_result"
    }
   ],
   "source": [
    "len (airports)\n",
    "# command to read the datafile"
   ]
  },
  {
   "cell_type": "code",
   "execution_count": 5,
   "id": "a382ba47-1d2c-4a80-b78b-e8c1999c5856",
   "metadata": {
    "tags": []
   },
   "outputs": [
    {
     "data": {
      "text/plain": [
       "{'Airport': {'Code': 'ATL',\n",
       "  'Name': 'Atlanta, GA: Hartsfield-Jackson Atlanta International'},\n",
       " 'Time': {'Label': '2003/06', 'Month': 6, 'Month Name': 'June', 'Year': 2003},\n",
       " 'Statistics': {'# of Delays': {'Carrier': 1009,\n",
       "   'Late Aircraft': 1275,\n",
       "   'National Aviation System': 3217,\n",
       "   'Security': 17,\n",
       "   'Weather': 328},\n",
       "  'Carriers': {'Names': 'American Airlines Inc.,JetBlue Airways,Continental Air Lines Inc.,Delta Air Lines Inc.,Atlantic Southeast Airlines,AirTran Airways Corporation,America West Airlines Inc.,Northwest Airlines Inc.,ExpressJet Airlines Inc.,United Air Lines Inc.,US Airways Inc.',\n",
       "   'Total': 11},\n",
       "  'Flights': {'Cancelled': 216,\n",
       "   'Delayed': 5843,\n",
       "   'Diverted': 27,\n",
       "   'On Time': 23974,\n",
       "   'Total': 30060},\n",
       "  'Minutes Delayed': {'Carrier': 61606,\n",
       "   'Late Aircraft': 68335,\n",
       "   'National Aviation System': 118831,\n",
       "   'Security': 518,\n",
       "   'Total': 268764,\n",
       "   'Weather': 19474}}}"
      ]
     },
     "execution_count": 5,
     "metadata": {},
     "output_type": "execute_result"
    }
   ],
   "source": [
    "airports [0] \n",
    "# calling the data point at position 0 of the list to see what information it contains "
   ]
  },
  {
   "cell_type": "code",
   "execution_count": 38,
   "id": "339d203e-0789-46dc-ae49-cc837c7a3032",
   "metadata": {},
   "outputs": [],
   "source": [
    "from pprint import pprint as prettyprint"
   ]
  },
  {
   "cell_type": "code",
   "execution_count": 39,
   "id": "cdcd09e4-a1a6-44bd-bfe4-74c7367f130c",
   "metadata": {},
   "outputs": [
    {
     "name": "stdout",
     "output_type": "stream",
     "text": [
      "{'Airport': {'Code': 'BOS', 'Name': 'Boston, MA: Logan International'},\n",
      " 'Statistics': {'# of Delays': {'Carrier': 374,\n",
      "                                'Late Aircraft': 495,\n",
      "                                'National Aviation System': 685,\n",
      "                                'Security': 3,\n",
      "                                'Weather': 66},\n",
      "                'Carriers': {'Names': 'American Airlines Inc.,Alaska Airlines '\n",
      "                                      'Inc.,Continental Air Lines '\n",
      "                                      'Inc.,Atlantic Coast Airlines,Delta Air '\n",
      "                                      'Lines Inc.,Atlantic Southeast '\n",
      "                                      'Airlines,AirTran Airways '\n",
      "                                      'Corporation,America West Airlines '\n",
      "                                      'Inc.,American Eagle Airlines '\n",
      "                                      'Inc.,Northwest Airlines Inc.,ExpressJet '\n",
      "                                      'Airlines Inc.,ATA Airlines d/b/a '\n",
      "                                      'ATA,United Air Lines Inc.,US Airways '\n",
      "                                      'Inc.',\n",
      "                             'Total': 14},\n",
      "                'Flights': {'Cancelled': 138,\n",
      "                            'Delayed': 1623,\n",
      "                            'Diverted': 3,\n",
      "                            'On Time': 7875,\n",
      "                            'Total': 9639},\n",
      "                'Minutes Delayed': {'Carrier': 20319,\n",
      "                                    'Late Aircraft': 28189,\n",
      "                                    'National Aviation System': 24400,\n",
      "                                    'Security': 99,\n",
      "                                    'Total': 77167,\n",
      "                                    'Weather': 4160}},\n",
      " 'Time': {'Label': '2003/06', 'Month': 6, 'Month Name': 'June', 'Year': 2003}}\n"
     ]
    }
   ],
   "source": [
    "prettyprint(airports[1])\n",
    "# formatting it to view the information more easily "
   ]
  },
  {
   "cell_type": "code",
   "execution_count": 32,
   "id": "da0f2e46-4f66-4e84-a6ea-eca0f54a1bd6",
   "metadata": {
    "collapsed": true,
    "jupyter": {
     "outputs_hidden": true
    },
    "tags": []
   },
   "outputs": [
    {
     "name": "stdout",
     "output_type": "stream",
     "text": [
      "Help on list object:\n",
      "\n",
      "class list(object)\n",
      " |  list(iterable=(), /)\n",
      " |  \n",
      " |  Built-in mutable sequence.\n",
      " |  \n",
      " |  If no argument is given, the constructor creates a new empty list.\n",
      " |  The argument must be an iterable if specified.\n",
      " |  \n",
      " |  Methods defined here:\n",
      " |  \n",
      " |  __add__(self, value, /)\n",
      " |      Return self+value.\n",
      " |  \n",
      " |  __contains__(self, key, /)\n",
      " |      Return key in self.\n",
      " |  \n",
      " |  __delitem__(self, key, /)\n",
      " |      Delete self[key].\n",
      " |  \n",
      " |  __eq__(self, value, /)\n",
      " |      Return self==value.\n",
      " |  \n",
      " |  __ge__(self, value, /)\n",
      " |      Return self>=value.\n",
      " |  \n",
      " |  __getattribute__(self, name, /)\n",
      " |      Return getattr(self, name).\n",
      " |  \n",
      " |  __getitem__(...)\n",
      " |      x.__getitem__(y) <==> x[y]\n",
      " |  \n",
      " |  __gt__(self, value, /)\n",
      " |      Return self>value.\n",
      " |  \n",
      " |  __iadd__(self, value, /)\n",
      " |      Implement self+=value.\n",
      " |  \n",
      " |  __imul__(self, value, /)\n",
      " |      Implement self*=value.\n",
      " |  \n",
      " |  __init__(self, /, *args, **kwargs)\n",
      " |      Initialize self.  See help(type(self)) for accurate signature.\n",
      " |  \n",
      " |  __iter__(self, /)\n",
      " |      Implement iter(self).\n",
      " |  \n",
      " |  __le__(self, value, /)\n",
      " |      Return self<=value.\n",
      " |  \n",
      " |  __len__(self, /)\n",
      " |      Return len(self).\n",
      " |  \n",
      " |  __lt__(self, value, /)\n",
      " |      Return self<value.\n",
      " |  \n",
      " |  __mul__(self, value, /)\n",
      " |      Return self*value.\n",
      " |  \n",
      " |  __ne__(self, value, /)\n",
      " |      Return self!=value.\n",
      " |  \n",
      " |  __repr__(self, /)\n",
      " |      Return repr(self).\n",
      " |  \n",
      " |  __reversed__(self, /)\n",
      " |      Return a reverse iterator over the list.\n",
      " |  \n",
      " |  __rmul__(self, value, /)\n",
      " |      Return value*self.\n",
      " |  \n",
      " |  __setitem__(self, key, value, /)\n",
      " |      Set self[key] to value.\n",
      " |  \n",
      " |  __sizeof__(self, /)\n",
      " |      Return the size of the list in memory, in bytes.\n",
      " |  \n",
      " |  append(self, object, /)\n",
      " |      Append object to the end of the list.\n",
      " |  \n",
      " |  clear(self, /)\n",
      " |      Remove all items from list.\n",
      " |  \n",
      " |  copy(self, /)\n",
      " |      Return a shallow copy of the list.\n",
      " |  \n",
      " |  count(self, value, /)\n",
      " |      Return number of occurrences of value.\n",
      " |  \n",
      " |  extend(self, iterable, /)\n",
      " |      Extend list by appending elements from the iterable.\n",
      " |  \n",
      " |  index(self, value, start=0, stop=9223372036854775807, /)\n",
      " |      Return first index of value.\n",
      " |      \n",
      " |      Raises ValueError if the value is not present.\n",
      " |  \n",
      " |  insert(self, index, object, /)\n",
      " |      Insert object before index.\n",
      " |  \n",
      " |  pop(self, index=-1, /)\n",
      " |      Remove and return item at index (default last).\n",
      " |      \n",
      " |      Raises IndexError if list is empty or index is out of range.\n",
      " |  \n",
      " |  remove(self, value, /)\n",
      " |      Remove first occurrence of value.\n",
      " |      \n",
      " |      Raises ValueError if the value is not present.\n",
      " |  \n",
      " |  reverse(self, /)\n",
      " |      Reverse *IN PLACE*.\n",
      " |  \n",
      " |  sort(self, /, *, key=None, reverse=False)\n",
      " |      Sort the list in ascending order and return None.\n",
      " |      \n",
      " |      The sort is in-place (i.e. the list itself is modified) and stable (i.e. the\n",
      " |      order of two equal elements is maintained).\n",
      " |      \n",
      " |      If a key function is given, apply it once to each list item and sort them,\n",
      " |      ascending or descending, according to their function values.\n",
      " |      \n",
      " |      The reverse flag can be set to sort in descending order.\n",
      " |  \n",
      " |  ----------------------------------------------------------------------\n",
      " |  Class methods defined here:\n",
      " |  \n",
      " |  __class_getitem__(...) from builtins.type\n",
      " |      See PEP 585\n",
      " |  \n",
      " |  ----------------------------------------------------------------------\n",
      " |  Static methods defined here:\n",
      " |  \n",
      " |  __new__(*args, **kwargs) from builtins.type\n",
      " |      Create and return a new object.  See help(type) for accurate signature.\n",
      " |  \n",
      " |  ----------------------------------------------------------------------\n",
      " |  Data and other attributes defined here:\n",
      " |  \n",
      " |  __hash__ = None\n",
      "\n"
     ]
    }
   ],
   "source": [
    "help(airports)\n",
    "# to view what functions can be used with the list "
   ]
  },
  {
   "cell_type": "code",
   "execution_count": 54,
   "id": "3efba22b-7ef1-41db-ab27-1efc039ee8ed",
   "metadata": {},
   "outputs": [
    {
     "data": {
      "text/plain": [
       "dict_keys(['Airport', 'Time', 'Statistics'])"
      ]
     },
     "execution_count": 54,
     "metadata": {},
     "output_type": "execute_result"
    }
   ],
   "source": [
    "airports[0].keys()\n",
    "# to view the keys of the list "
   ]
  },
  {
   "cell_type": "code",
   "execution_count": 59,
   "id": "c5609e1e-5f86-4750-a4f1-3e7837925f36",
   "metadata": {},
   "outputs": [
    {
     "data": {
      "text/plain": [
       "dict_values([{'Code': 'ATL', 'Name': 'Atlanta, GA: Hartsfield-Jackson Atlanta International'}, {'Label': '2003/06', 'Month': 6, 'Month Name': 'June', 'Year': 2003}, {'# of Delays': {'Carrier': 1009, 'Late Aircraft': 1275, 'National Aviation System': 3217, 'Security': 17, 'Weather': 328}, 'Carriers': {'Names': 'American Airlines Inc.,JetBlue Airways,Continental Air Lines Inc.,Delta Air Lines Inc.,Atlantic Southeast Airlines,AirTran Airways Corporation,America West Airlines Inc.,Northwest Airlines Inc.,ExpressJet Airlines Inc.,United Air Lines Inc.,US Airways Inc.', 'Total': 11}, 'Flights': {'Cancelled': 216, 'Delayed': 5843, 'Diverted': 27, 'On Time': 23974, 'Total': 30060}, 'Minutes Delayed': {'Carrier': 61606, 'Late Aircraft': 68335, 'National Aviation System': 118831, 'Security': 518, 'Total': 268764, 'Weather': 19474}}])"
      ]
     },
     "execution_count": 59,
     "metadata": {},
     "output_type": "execute_result"
    }
   ],
   "source": [
    "airports[0].values()\n",
    "# to view the values of the elements of data point at position 0 "
   ]
  },
  {
   "cell_type": "code",
   "execution_count": 25,
   "id": "05dc1723-88ee-47e8-b684-bae14c714920",
   "metadata": {
    "jupyter": {
     "source_hidden": true
    },
    "tags": []
   },
   "outputs": [],
   "source": [
    "def DelaysbyMonth(a):\n",
    "    sum = 0 # to make a variable that holds the sum of minutes delayed per month \n",
    "    for j in range(1,13): # a for loop to go through the months from january (1) to december (13-1) \n",
    "        for i in range(len(a)): # a for loop that goes through the list \n",
    "            if a[i]['Time']['Month'] == j: # an if statement that will filter the months \n",
    "                sum = sum + a[i]['Statistics']['Minutes Delayed']['Total'] # a mathematical operation which adds minutes delayed by months\n",
    "        print(str(j) + ':' + str(sum)) # print the sum of minutes delayd \n",
    "        sum = 0 # reset sum\n",
    "\n",
    "    \n",
    "        \n",
    "    \n",
    "    "
   ]
  },
  {
   "cell_type": "code",
   "execution_count": 41,
   "id": "1ae72c6e-80d1-4be8-a308-1136fff5ae74",
   "metadata": {},
   "outputs": [],
   "source": [
    "def DelaysbyMonth(a):\n",
    "    sum = 0 # to make a variable that holds the sum of minutes delayed per month \n",
    "    for j in range(1,13): # a for loop to go through the months from january (1) to december (13-1) \n",
    "        for i in range(len(a)): # a for loop that goes through the list \n",
    "            if a[i]['Time']['Month'] == j: # an if statement that will filter the months \n",
    "                sum = sum + a[i]['Statistics']['Minutes Delayed']['Total'] # a mathematical operation which adds minutes delayed by months\n",
    "        print(str(j) + ':' + str(sum)) # print the sum of minutes delayd \n",
    "        sum = 0 # reset sum"
   ]
  },
  {
   "cell_type": "code",
   "execution_count": 42,
   "id": "913c1eda-fac2-4615-8fbe-f1c258db63ca",
   "metadata": {},
   "outputs": [
    {
     "name": "stdout",
     "output_type": "stream",
     "text": [
      "1:50936145\n",
      "2:44339532\n",
      "3:48767941\n",
      "4:42258899\n",
      "5:46323059\n",
      "6:66206433\n",
      "7:66618470\n",
      "8:56014722\n",
      "9:35800799\n",
      "10:40866813\n",
      "11:38590608\n",
      "12:62753714\n"
     ]
    }
   ],
   "source": [
    "DelaysbyMonthCarrier(airports)"
   ]
  },
  {
   "cell_type": "markdown",
   "id": "4c3c5c06-e1a7-487c-8f43-1d96735220b7",
   "metadata": {},
   "source": [
    "Winter: 12,1,2\n",
    "Spring: 3,4,5\n",
    "Summer: 6,7,8\n",
    "Fall: 9,10,11\n",
    "_________________\n",
    "9: 35800799 fall \n",
    "11: 38590608 fall\n",
    "10: 40866813 fall \n",
    "4: 42258899 spring\n",
    "2: 44339532 winter\n",
    "5: 46323059 spring\n",
    "3: 48767941 spring \n",
    "1: 50936145 winter\n",
    "8: 56014722 summer\n",
    "12: 62753714 winter\n",
    "6: 66206433 summer \n",
    "7: 66618470 summer \n",
    "\n",
    "Based on the output, I organized the numbers in an ascending order and categorized each month into one of the four seasons. I was able to notice a trend in which the total of delayed minutes were generally the highest during the summer months and the lowest for fall months. Then, I explored how each category of reasons for being delayed contributed to each month. \n",
    "\n",
    "\n",
    "\n",
    "\n",
    "\n",
    "\n",
    "\n",
    "\n",
    "\n",
    "\n"
   ]
  },
  {
   "cell_type": "code",
   "execution_count": 92,
   "id": "b717559e-0de7-4897-8374-27ad94bb6dca",
   "metadata": {},
   "outputs": [],
   "source": [
    "def DelaysbyMonthCarrier(a):\n",
    "    sum1 = 0 # to make a variable that holds the sum of minutes delayed per month \n",
    "    sum2 = 0\n",
    "    for j in range(1,13): # a for loop to go through the months from january (1) to december (13-1) \n",
    "        for i in range(len(a)): # a for loop that goes through the list \n",
    "            if a[i]['Time']['Month'] == j: # an if statement that will filter the months \n",
    "                sum1 = sum1 + a[i]['Statistics']['Minutes Delayed']['Carrier'] # a mathematical operation which adds minutes delayed by months\n",
    "                sum2 = sum2 + a[i]['Statistics']['Minutes Delayed']['Total']\n",
    "        percent = (sum1/sum2)*100 # in order to see what percent of the minutes delayed were due to carriers\n",
    "        formatsum = \"{:.2f}\".format(percent) # formatting to only two decimal places\n",
    "        print (str(j) + ':' + str(formatsum)) # print the sum of minutes delayd \n",
    "        sum1 = 0 # reset sum\n",
    "        sum2 = 0\n",
    "        carrierpercent = 0\n",
    "        formatsum = 0"
   ]
  },
  {
   "cell_type": "code",
   "execution_count": 93,
   "id": "3e760df0-c88c-4627-a302-48809220dde2",
   "metadata": {},
   "outputs": [
    {
     "name": "stdout",
     "output_type": "stream",
     "text": [
      "1:26.52\n",
      "2:25.43\n",
      "3:25.69\n",
      "4:26.02\n",
      "5:24.70\n",
      "6:24.55\n",
      "7:25.21\n",
      "8:26.33\n",
      "9:27.86\n",
      "10:26.19\n",
      "11:26.23\n",
      "12:25.55\n"
     ]
    }
   ],
   "source": [
    "DelaysbyMonthCarrier(airports)"
   ]
  },
  {
   "cell_type": "code",
   "execution_count": 90,
   "id": "b4fd9019-2206-43e4-a312-422caec7f56c",
   "metadata": {},
   "outputs": [],
   "source": [
    "def DelaysbyMonthLate(a):\n",
    "    sum1 = 0 # to make a variable that holds the sum of minutes delayed per month \n",
    "    sum2 = 0\n",
    "    for j in range(1,13): # a for loop to go through the months from january (1) to december (13-1) \n",
    "        for i in range(len(a)): # a for loop that goes through the list \n",
    "            if a[i]['Time']['Month'] == j: # an if statement that will filter the months \n",
    "                sum1 = sum1 + a[i]['Statistics']['Minutes Delayed']['Late Aircraft'] # a mathematical operation which adds minutes delayed by months\n",
    "                sum2 = sum2 + a[i]['Statistics']['Minutes Delayed']['Total']\n",
    "        percent = (sum1/sum2)*100 # in order to see what percent of the minutes delayed were due to late aircrafts\n",
    "        formatsum = \"{:.2f}\".format(percent) # formatting to only two decimal places\n",
    "        print (str(j) + ':' + str(formatsum)) # print the sum of minutes delayd \n",
    "        sum1 = 0 # reset sum\n",
    "        sum2 = 0\n",
    "        percent = 0\n",
    "        formatsum = 0"
   ]
  },
  {
   "cell_type": "code",
   "execution_count": 91,
   "id": "7300ee62-d35f-47c8-a97f-229ae92af8cf",
   "metadata": {},
   "outputs": [
    {
     "name": "stdout",
     "output_type": "stream",
     "text": [
      "1:35.56\n",
      "2:35.84\n",
      "3:37.15\n",
      "4:36.17\n",
      "5:35.73\n",
      "6:37.69\n",
      "7:38.42\n",
      "8:37.28\n",
      "9:32.98\n",
      "10:34.08\n",
      "11:33.75\n",
      "12:37.70\n"
     ]
    }
   ],
   "source": [
    "DelaysbyMonthLate(airports)"
   ]
  },
  {
   "cell_type": "code",
   "execution_count": 94,
   "id": "a9ee836c-d91a-4319-acc7-f4aa831cb1cd",
   "metadata": {},
   "outputs": [],
   "source": [
    "def DelaysbyMonthSystem(a):\n",
    "    sum1 = 0 # to make a variable that holds the sum of minutes delayed per month \n",
    "    sum2 = 0\n",
    "    \n",
    "    for j in range(1,13): # a for loop to go through the months from january (1) to december (13-1) \n",
    "        for i in range(len(a)): # a for loop that goes through the list \n",
    "            if a[i]['Time']['Month'] == j: # an if statement that will filter the months \n",
    "                sum1 = sum1 + a[i]['Statistics']['Minutes Delayed']['National Aviation System'] # a mathematical operation which adds minutes delayed by months\n",
    "                sum2 = sum2 + a[i]['Statistics']['Minutes Delayed']['Total']\n",
    "        percent = (sum1/sum2)*100 # in order to see what percent of the minutes delayed were due to national aviation system\n",
    "        formatsum = \"{:.2f}\".format(percent) # formatting to only two decimal places\n",
    "        print (str(j) + ':' + str(formatsum)) # print the sum of minutes delayd \n",
    "        sum1 = 0 # reset sum\n",
    "        sum2 = 0\n",
    "        percent = 0\n",
    "        formatsum = 0"
   ]
  },
  {
   "cell_type": "code",
   "execution_count": 95,
   "id": "b3e0a50c-5203-4006-9fd2-cc8e9d01bd1d",
   "metadata": {},
   "outputs": [
    {
     "name": "stdout",
     "output_type": "stream",
     "text": [
      "1:32.19\n",
      "2:33.21\n",
      "3:33.04\n",
      "4:33.91\n",
      "5:34.82\n",
      "6:32.39\n",
      "7:31.33\n",
      "8:31.40\n",
      "9:35.11\n",
      "10:36.13\n",
      "11:36.19\n",
      "12:31.56\n"
     ]
    }
   ],
   "source": [
    "DelaysbyMonthSystem(airports)"
   ]
  },
  {
   "cell_type": "code",
   "execution_count": 96,
   "id": "6707c8aa-bb95-4e07-bf36-7433e2748b11",
   "metadata": {},
   "outputs": [],
   "source": [
    "def DelaysbyMonthSecurity(a):\n",
    "    sum1 = 0 # to make a variable that holds the sum of minutes delayed per month \n",
    "    sum2 = 0\n",
    "    for j in range(1,13): # a for loop to go through the months from january (1) to december (13-1) \n",
    "        for i in range(len(a)): # a for loop that goes through the list \n",
    "            if a[i]['Time']['Month'] == j: # an if statement that will filter the months \n",
    "                sum1 = sum1 + a[i]['Statistics']['Minutes Delayed']['Security'] # a mathematical operation which adds minutes delayed by months\n",
    "                sum2 = sum2 + a[i]['Statistics']['Minutes Delayed']['Total']\n",
    "        percent = (sum1/sum2)*100 # in order to see what percent of the minutes delayed were due to security \n",
    "        formatsum = \"{:.2f}\".format(percent) # formatting to only two decimal places\n",
    "        print (str(j) + ':' + str(formatsum)) # print the sum of minutes delayd \n",
    "        sum1 = 0 # reset sum\n",
    "        sum2 = 0\n",
    "        percent = 0\n",
    "        formatsum = 0"
   ]
  },
  {
   "cell_type": "code",
   "execution_count": 97,
   "id": "155f0036-1433-4191-ae9f-41f68dfdc461",
   "metadata": {},
   "outputs": [
    {
     "name": "stdout",
     "output_type": "stream",
     "text": [
      "1:0.17\n",
      "2:0.14\n",
      "3:0.14\n",
      "4:0.15\n",
      "5:0.12\n",
      "6:0.13\n",
      "7:0.12\n",
      "8:0.23\n",
      "9:0.17\n",
      "10:0.15\n",
      "11:0.18\n",
      "12:0.18\n"
     ]
    }
   ],
   "source": [
    "DelaysbyMonthSecurity(airports)"
   ]
  },
  {
   "cell_type": "code",
   "execution_count": 101,
   "id": "57fbc778-7351-4c08-9a81-70d4f689b34b",
   "metadata": {},
   "outputs": [],
   "source": [
    "def DelaysbyMonthWeather(a):\n",
    "    sum1 = 0 # to make a variable that holds the sum of minutes delayed per month \n",
    "    sum2 = 0\n",
    "    for j in range(1,13): # a for loop to go through the months from january (1) to december (13-1) \n",
    "        for i in range(len(a)): # a for loop that goes through the list \n",
    "            if a[i]['Time']['Month'] == j: # an if statement that will filter the months \n",
    "                sum1 = sum1 + a[i]['Statistics']['Minutes Delayed']['Weather'] # a mathematical operation which adds minutes delayed by months\n",
    "                sum2 = sum2 + a[i]['Statistics']['Minutes Delayed']['Total']\n",
    "        percent = (sum1/sum2)*100 # in order to see what percent of the minutes delayed were due to weather\n",
    "        formatsum = \"{:.2f}\".format(percent) # formatting to only two decimal places\n",
    "        print (str(j) + ':' + str(formatsum)) # print the sum of minutes delayd \n",
    "        sum1 = 0 # reset sum\n",
    "        sum2 = 0\n",
    "        percent = 0\n",
    "        formatsum = 0"
   ]
  },
  {
   "cell_type": "code",
   "execution_count": 102,
   "id": "0797dfcf-9ad4-4652-81f3-809467b7b7dd",
   "metadata": {},
   "outputs": [
    {
     "name": "stdout",
     "output_type": "stream",
     "text": [
      "1:5.57\n",
      "2:5.38\n",
      "3:3.97\n",
      "4:3.75\n",
      "5:4.63\n",
      "6:5.24\n",
      "7:4.92\n",
      "8:4.77\n",
      "9:3.89\n",
      "10:3.46\n",
      "11:3.65\n",
      "12:5.02\n"
     ]
    }
   ],
   "source": [
    "DelaysbyMonthWeather(airports)"
   ]
  },
  {
   "cell_type": "markdown",
   "id": "40be7c29-abfe-4ce1-af56-98d8dbcd045c",
   "metadata": {},
   "source": [
    "After seeing the outputs, I noticed that the percentages for each category of reasons were pretty similar across all the months. I was exploring to see if any category had a drastic effect on certain months, but it seemed like the effects were spread out relatively evenly across the months. "
   ]
  }
 ],
 "metadata": {
  "kernelspec": {
   "display_name": "Python 3 (ipykernel)",
   "language": "python",
   "name": "python3"
  },
  "language_info": {
   "codemirror_mode": {
    "name": "ipython",
    "version": 3
   },
   "file_extension": ".py",
   "mimetype": "text/x-python",
   "name": "python",
   "nbconvert_exporter": "python",
   "pygments_lexer": "ipython3",
   "version": "3.9.6"
  }
 },
 "nbformat": 4,
 "nbformat_minor": 5
}
