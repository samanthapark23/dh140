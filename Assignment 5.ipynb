{
 "cells": [
  {
   "cell_type": "code",
   "execution_count": 1,
   "id": "9d1272b2-7600-4cd4-a468-e220ccfdf1d3",
   "metadata": {},
   "outputs": [],
   "source": [
    "import requests"
   ]
  },
  {
   "cell_type": "code",
   "execution_count": 2,
   "id": "895514d6-cf80-41b4-a9b3-ea88cfcc20a3",
   "metadata": {},
   "outputs": [],
   "source": [
    "response = requests.get('https://corgis-edu.github.io/corgis/csv/')"
   ]
  },
  {
   "cell_type": "code",
   "execution_count": 3,
   "id": "e5b69e83-82aa-4140-a435-e5722c818c80",
   "metadata": {
    "tags": []
   },
   "outputs": [
    {
     "data": {
      "text/plain": [
       "<Response [200]>"
      ]
     },
     "execution_count": 3,
     "metadata": {},
     "output_type": "execute_result"
    }
   ],
   "source": [
    "response"
   ]
  },
  {
   "cell_type": "markdown",
   "id": "c5bcecbd-b3da-4e71-8150-45f1df3a70af",
   "metadata": {},
   "source": [
    "### Step 2: Use requests and BeautifulSoup to make a list of all the CORGIS datasets.\n",
    "\n"
   ]
  },
  {
   "cell_type": "code",
   "execution_count": 4,
   "id": "21fe456b-0f3c-42c2-a0d5-0d1ce39ef308",
   "metadata": {},
   "outputs": [],
   "source": [
    "from bs4 import BeautifulSoup"
   ]
  },
  {
   "cell_type": "code",
   "execution_count": 5,
   "id": "b2f5d667-541d-471c-a9c1-c2c984ea00b3",
   "metadata": {},
   "outputs": [],
   "source": [
    "html_string = response.text"
   ]
  },
  {
   "cell_type": "code",
   "execution_count": 6,
   "id": "425d2264-fe24-4ab0-b9f3-5cf44401f954",
   "metadata": {},
   "outputs": [],
   "source": [
    "document = BeautifulSoup(html_string, \"html.parser\")"
   ]
  },
  {
   "cell_type": "code",
   "execution_count": 7,
   "id": "f1865139-c43d-47b9-bbee-22cc51cbc0d3",
   "metadata": {
    "tags": []
   },
   "outputs": [
    {
     "data": {
      "text/plain": [
       "[<h3>Aids</h3>,\n",
       " <h3>Airlines</h3>,\n",
       " <h3>Billionaires</h3>,\n",
       " <h3>Broadway</h3>,\n",
       " <h3>Business Dynamics</h3>,\n",
       " <h3>Cancer</h3>,\n",
       " <h3>Cars</h3>,\n",
       " <h3>Classics</h3>,\n",
       " <h3>Construction Permits</h3>,\n",
       " <h3>Construction Spending</h3>,\n",
       " <h3>County Demographics</h3>,\n",
       " <h3>Covid</h3>,\n",
       " <h3>Drugs</h3>,\n",
       " <h3>Earthquakes</h3>,\n",
       " <h3>Election</h3>,\n",
       " <h3>Electricity</h3>,\n",
       " <h3>Emissions</h3>,\n",
       " <h3>Energy</h3>,\n",
       " <h3>Finance</h3>,\n",
       " <h3>Food</h3>,\n",
       " <h3>Food Access</h3>,\n",
       " <h3>Global Development</h3>,\n",
       " <h3>Graduates</h3>,\n",
       " <h3>Health</h3>,\n",
       " <h3>Hospitals</h3>,\n",
       " <h3>Hydropower</h3>,\n",
       " <h3>Ingredients</h3>,\n",
       " <h3>Injuries</h3>,\n",
       " <h3>Labor</h3>,\n",
       " <h3>Medal Of Honor</h3>,\n",
       " <h3>Music</h3>,\n",
       " <h3>Opioids</h3>,\n",
       " <h3>Police Shootings</h3>,\n",
       " <h3>Publishers</h3>,\n",
       " <h3>Real Estate</h3>,\n",
       " <h3>Retail Services</h3>,\n",
       " <h3>School Scores</h3>,\n",
       " <h3>Skyscrapers</h3>,\n",
       " <h3>Slavery</h3>,\n",
       " <h3>State Crime</h3>,\n",
       " <h3>State Demographics</h3>,\n",
       " <h3>State Fragility</h3>,\n",
       " <h3>Suicide Attacks</h3>,\n",
       " <h3>Supreme Court</h3>,\n",
       " <h3>Tate</h3>,\n",
       " <h3>Video Games</h3>,\n",
       " <h3>Weather</h3>,\n",
       " <h3>Wind Turbines</h3>]"
      ]
     },
     "execution_count": 7,
     "metadata": {},
     "output_type": "execute_result"
    }
   ],
   "source": [
    "document.find_all('h3')"
   ]
  },
  {
   "cell_type": "code",
   "execution_count": 8,
   "id": "c92bf94e-2a05-4695-90e3-da893d5cdadd",
   "metadata": {
    "tags": []
   },
   "outputs": [],
   "source": [
    "corgislist = []\n",
    "for i in document.find_all(\"h3\"):\n",
    "    corgislist.append(i.text.strip())\n"
   ]
  },
  {
   "cell_type": "code",
   "execution_count": 9,
   "id": "ebab26d9-6a7e-4345-8d87-050600d79b11",
   "metadata": {
    "tags": []
   },
   "outputs": [
    {
     "data": {
      "text/plain": [
       "['Aids',\n",
       " 'Airlines',\n",
       " 'Billionaires',\n",
       " 'Broadway',\n",
       " 'Business Dynamics',\n",
       " 'Cancer',\n",
       " 'Cars',\n",
       " 'Classics',\n",
       " 'Construction Permits',\n",
       " 'Construction Spending',\n",
       " 'County Demographics',\n",
       " 'Covid',\n",
       " 'Drugs',\n",
       " 'Earthquakes',\n",
       " 'Election',\n",
       " 'Electricity',\n",
       " 'Emissions',\n",
       " 'Energy',\n",
       " 'Finance',\n",
       " 'Food',\n",
       " 'Food Access',\n",
       " 'Global Development',\n",
       " 'Graduates',\n",
       " 'Health',\n",
       " 'Hospitals',\n",
       " 'Hydropower',\n",
       " 'Ingredients',\n",
       " 'Injuries',\n",
       " 'Labor',\n",
       " 'Medal Of Honor',\n",
       " 'Music',\n",
       " 'Opioids',\n",
       " 'Police Shootings',\n",
       " 'Publishers',\n",
       " 'Real Estate',\n",
       " 'Retail Services',\n",
       " 'School Scores',\n",
       " 'Skyscrapers',\n",
       " 'Slavery',\n",
       " 'State Crime',\n",
       " 'State Demographics',\n",
       " 'State Fragility',\n",
       " 'Suicide Attacks',\n",
       " 'Supreme Court',\n",
       " 'Tate',\n",
       " 'Video Games',\n",
       " 'Weather',\n",
       " 'Wind Turbines']"
      ]
     },
     "execution_count": 9,
     "metadata": {},
     "output_type": "execute_result"
    }
   ],
   "source": [
    "corgislist  #list of all CORGIS datasets"
   ]
  },
  {
   "cell_type": "markdown",
   "id": "82fc1caa-ac99-49da-88e2-88952c5f304b",
   "metadata": {},
   "source": [
    "### Step 3: Write a function that takes an element from the list of CORGIS datasets, searches the respective CORGIS page for the CSV download link, and returns a Pandas dataframe.\n",
    "\n"
   ]
  },
  {
   "cell_type": "code",
   "execution_count": 10,
   "id": "92e8c4bc-9c72-4cf7-86b9-c3ea4695ce43",
   "metadata": {},
   "outputs": [],
   "source": [
    "import pandas as pd"
   ]
  },
  {
   "cell_type": "code",
   "execution_count": 11,
   "id": "fde7e11b-1fe8-4250-bb38-c7f6fbb7d99d",
   "metadata": {},
   "outputs": [],
   "source": [
    "def corgis(a):\n",
    "    lower = a.lower() \n",
    "    if \" \" in lower: #for elements that have more than one word (i.e. 'Medal of Honor', 'Supreme Court')\n",
    "        lower = lower.replace(\" \", \"_\")\n",
    "        response = requests.get('https://corgis-edu.github.io/corgis/csv/' + lower + '/')\n",
    "    else:\n",
    "        response = requests.get('https://corgis-edu.github.io/corgis/csv/' + lower + '/') \n",
    "    html_string = response.text\n",
    "    document = BeautifulSoup(html_string, \"html.parser\")\n",
    "    links = document.find_all('a')\n",
    "    for i in links:\n",
    "        if i.has_attr('download'):\n",
    "            download = i['href']\n",
    "    downloadlink = 'https://corgis-edu.github.io/corgis/csv/' + lower + '/' + download\n",
    "    corgisdf = pd.read_csv(downloadlink)\n",
    "    return corgisdf"
   ]
  },
  {
   "cell_type": "markdown",
   "id": "a4accb4f-cf27-495b-a905-f0f5890a7633",
   "metadata": {},
   "source": [
    "### Broadway Dataset"
   ]
  },
  {
   "cell_type": "code",
   "execution_count": 12,
   "id": "0157ff6c-0628-49fe-8541-5473ec76aa34",
   "metadata": {},
   "outputs": [
    {
     "data": {
      "text/plain": [
       "Index(['Date.Day', 'Date.Full', 'Date.Month', 'Date.Year', 'Show.Name',\n",
       "       'Show.Theatre', 'Show.Type', 'Statistics.Attendance',\n",
       "       'Statistics.Capacity', 'Statistics.Gross', 'Statistics.Gross Potential',\n",
       "       'Statistics.Performances'],\n",
       "      dtype='object')"
      ]
     },
     "execution_count": 12,
     "metadata": {},
     "output_type": "execute_result"
    }
   ],
   "source": [
    "broadway_df = corgis('Broadway')\n",
    "broadway_df.columns\n"
   ]
  },
  {
   "cell_type": "code",
   "execution_count": 13,
   "id": "b980ffbb-d5c8-4c16-b62b-6cf6a71c61f8",
   "metadata": {},
   "outputs": [
    {
     "data": {
      "text/plain": [
       "<AxesSubplot:xlabel='Show.Type'>"
      ]
     },
     "execution_count": 13,
     "metadata": {},
     "output_type": "execute_result"
    },
    {
     "data": {
      "image/png": "[encoded data removed]",
      "text/plain": [
       "<Figure size 432x288 with 1 Axes>"
      ]
     },
     "metadata": {
      "needs_background": "light"
     },
     "output_type": "display_data"
    }
   ],
   "source": [
    "w = broadway_df.groupby('Show.Type')[['Statistics.Gross']].mean()\n",
    "w.plot(kind = 'bar') \n",
    "# bar graph which shows the average of Statistics Gross of the three different show types in Broadway \n",
    "# 'Statistics Gross' = how much the show made in total across the entire week. "
   ]
  },
  {
   "cell_type": "markdown",
   "id": "3fd89304-44c3-4dbb-8a11-c98e66e1378f",
   "metadata": {},
   "source": [
    "### Hospitals Dataset"
   ]
  },
  {
   "cell_type": "code",
   "execution_count": 14,
   "id": "508d4ef6-ad95-430a-a618-24540b361d93",
   "metadata": {},
   "outputs": [
    {
     "data": {
      "text/html": [
       "<div>\n",
       "<style scoped>\n",
       "    .dataframe tbody tr th:only-of-type {\n",
       "        vertical-align: middle;\n",
       "    }\n",
       "\n",
       "    .dataframe tbody tr th {\n",
       "        vertical-align: top;\n",
       "    }\n",
       "\n",
       "    .dataframe thead th {\n",
       "        text-align: right;\n",
       "    }\n",
       "</style>\n",
       "<table border=\"1\" class=\"dataframe\">\n",
       "  <thead>\n",
       "    <tr style=\"text-align: right;\">\n",
       "      <th></th>\n",
       "      <th>Facility.Name</th>\n",
       "      <th>Facility.City</th>\n",
       "      <th>Facility.State</th>\n",
       "      <th>Facility.Type</th>\n",
       "      <th>Rating.Overall</th>\n",
       "      <th>Rating.Mortality</th>\n",
       "      <th>Rating.Safety</th>\n",
       "      <th>Rating.Readmission</th>\n",
       "      <th>Rating.Experience</th>\n",
       "      <th>Rating.Effectiveness</th>\n",
       "      <th>...</th>\n",
       "      <th>Procedure.Heart Attack.Value</th>\n",
       "      <th>Procedure.Heart Failure.Cost</th>\n",
       "      <th>Procedure.Heart Failure.Quality</th>\n",
       "      <th>Procedure.Heart Failure.Value</th>\n",
       "      <th>Procedure.Pneumonia.Cost</th>\n",
       "      <th>Procedure.Pneumonia.Quality</th>\n",
       "      <th>Procedure.Pneumonia.Value</th>\n",
       "      <th>Procedure.Hip Knee.Cost</th>\n",
       "      <th>Procedure.Hip Knee.Quality</th>\n",
       "      <th>Procedure.Hip Knee.Value</th>\n",
       "    </tr>\n",
       "  </thead>\n",
       "  <tbody>\n",
       "    <tr>\n",
       "      <th>0</th>\n",
       "      <td>Southeast Alabama Medical Center</td>\n",
       "      <td>Dothan</td>\n",
       "      <td>AL</td>\n",
       "      <td>Government</td>\n",
       "      <td>2</td>\n",
       "      <td>Below</td>\n",
       "      <td>Above</td>\n",
       "      <td>Below</td>\n",
       "      <td>Below</td>\n",
       "      <td>Same</td>\n",
       "      <td>...</td>\n",
       "      <td>Average</td>\n",
       "      <td>17041</td>\n",
       "      <td>Average</td>\n",
       "      <td>Average</td>\n",
       "      <td>18281</td>\n",
       "      <td>Average</td>\n",
       "      <td>Average</td>\n",
       "      <td>25812</td>\n",
       "      <td>Average</td>\n",
       "      <td>Higher</td>\n",
       "    </tr>\n",
       "    <tr>\n",
       "      <th>1</th>\n",
       "      <td>Marshall Medical Center South</td>\n",
       "      <td>Boaz</td>\n",
       "      <td>AL</td>\n",
       "      <td>Government</td>\n",
       "      <td>1</td>\n",
       "      <td>Below</td>\n",
       "      <td>Below</td>\n",
       "      <td>Below</td>\n",
       "      <td>Same</td>\n",
       "      <td>Above</td>\n",
       "      <td>...</td>\n",
       "      <td>Average</td>\n",
       "      <td>15819</td>\n",
       "      <td>Worse</td>\n",
       "      <td>Average</td>\n",
       "      <td>15614</td>\n",
       "      <td>Worse</td>\n",
       "      <td>Lower</td>\n",
       "      <td>22747</td>\n",
       "      <td>Average</td>\n",
       "      <td>Average</td>\n",
       "    </tr>\n",
       "    <tr>\n",
       "      <th>2</th>\n",
       "      <td>Eliza Coffee Memorial Hospital</td>\n",
       "      <td>Florence</td>\n",
       "      <td>AL</td>\n",
       "      <td>Government</td>\n",
       "      <td>3</td>\n",
       "      <td>Below</td>\n",
       "      <td>Above</td>\n",
       "      <td>Above</td>\n",
       "      <td>Below</td>\n",
       "      <td>Same</td>\n",
       "      <td>...</td>\n",
       "      <td>Average</td>\n",
       "      <td>16334</td>\n",
       "      <td>Average</td>\n",
       "      <td>Average</td>\n",
       "      <td>17371</td>\n",
       "      <td>Average</td>\n",
       "      <td>Average</td>\n",
       "      <td>24491</td>\n",
       "      <td>Average</td>\n",
       "      <td>Higher</td>\n",
       "    </tr>\n",
       "    <tr>\n",
       "      <th>3</th>\n",
       "      <td>Mizell Memorial Hospital</td>\n",
       "      <td>Opp</td>\n",
       "      <td>AL</td>\n",
       "      <td>Private</td>\n",
       "      <td>1</td>\n",
       "      <td>Same</td>\n",
       "      <td>Same</td>\n",
       "      <td>Below</td>\n",
       "      <td>Below</td>\n",
       "      <td>Below</td>\n",
       "      <td>...</td>\n",
       "      <td>Unknown</td>\n",
       "      <td>14541</td>\n",
       "      <td>Average</td>\n",
       "      <td>Lower</td>\n",
       "      <td>15226</td>\n",
       "      <td>Worse</td>\n",
       "      <td>Lower</td>\n",
       "      <td>23472</td>\n",
       "      <td>Average</td>\n",
       "      <td>Average</td>\n",
       "    </tr>\n",
       "    <tr>\n",
       "      <th>4</th>\n",
       "      <td>Crenshaw Community Hospital</td>\n",
       "      <td>Luverne</td>\n",
       "      <td>AL</td>\n",
       "      <td>Proprietary</td>\n",
       "      <td>4</td>\n",
       "      <td>Same</td>\n",
       "      <td>None</td>\n",
       "      <td>Above</td>\n",
       "      <td>None</td>\n",
       "      <td>Same</td>\n",
       "      <td>...</td>\n",
       "      <td>Unknown</td>\n",
       "      <td>13767</td>\n",
       "      <td>Average</td>\n",
       "      <td>Lower</td>\n",
       "      <td>14341</td>\n",
       "      <td>Average</td>\n",
       "      <td>Lower</td>\n",
       "      <td>0</td>\n",
       "      <td>Unknown</td>\n",
       "      <td>Unknown</td>\n",
       "    </tr>\n",
       "  </tbody>\n",
       "</table>\n",
       "<p>5 rows × 24 columns</p>\n",
       "</div>"
      ],
      "text/plain": [
       "                      Facility.Name Facility.City Facility.State  \\\n",
       "0  Southeast Alabama Medical Center        Dothan             AL   \n",
       "1     Marshall Medical Center South          Boaz             AL   \n",
       "2    Eliza Coffee Memorial Hospital      Florence             AL   \n",
       "3          Mizell Memorial Hospital           Opp             AL   \n",
       "4       Crenshaw Community Hospital       Luverne             AL   \n",
       "\n",
       "  Facility.Type  Rating.Overall Rating.Mortality Rating.Safety  \\\n",
       "0    Government               2            Below         Above   \n",
       "1    Government               1            Below         Below   \n",
       "2    Government               3            Below         Above   \n",
       "3       Private               1             Same          Same   \n",
       "4   Proprietary               4             Same          None   \n",
       "\n",
       "  Rating.Readmission Rating.Experience Rating.Effectiveness  ...  \\\n",
       "0              Below             Below                 Same  ...   \n",
       "1              Below              Same                Above  ...   \n",
       "2              Above             Below                 Same  ...   \n",
       "3              Below             Below                Below  ...   \n",
       "4              Above              None                 Same  ...   \n",
       "\n",
       "  Procedure.Heart Attack.Value Procedure.Heart Failure.Cost  \\\n",
       "0                      Average                        17041   \n",
       "1                      Average                        15819   \n",
       "2                      Average                        16334   \n",
       "3                      Unknown                        14541   \n",
       "4                      Unknown                        13767   \n",
       "\n",
       "   Procedure.Heart Failure.Quality Procedure.Heart Failure.Value  \\\n",
       "0                          Average                       Average   \n",
       "1                            Worse                       Average   \n",
       "2                          Average                       Average   \n",
       "3                          Average                         Lower   \n",
       "4                          Average                         Lower   \n",
       "\n",
       "  Procedure.Pneumonia.Cost  Procedure.Pneumonia.Quality  \\\n",
       "0                    18281                      Average   \n",
       "1                    15614                        Worse   \n",
       "2                    17371                      Average   \n",
       "3                    15226                        Worse   \n",
       "4                    14341                      Average   \n",
       "\n",
       "  Procedure.Pneumonia.Value Procedure.Hip Knee.Cost  \\\n",
       "0                   Average                   25812   \n",
       "1                     Lower                   22747   \n",
       "2                   Average                   24491   \n",
       "3                     Lower                   23472   \n",
       "4                     Lower                       0   \n",
       "\n",
       "   Procedure.Hip Knee.Quality Procedure.Hip Knee.Value  \n",
       "0                     Average                   Higher  \n",
       "1                     Average                  Average  \n",
       "2                     Average                   Higher  \n",
       "3                     Average                  Average  \n",
       "4                     Unknown                  Unknown  \n",
       "\n",
       "[5 rows x 24 columns]"
      ]
     },
     "execution_count": 14,
     "metadata": {},
     "output_type": "execute_result"
    }
   ],
   "source": [
    "#Hospitals\n",
    "sc_df = corgis('Hospitals')\n",
    "sc_df.columns\n",
    "sc_df.head()\n"
   ]
  },
  {
   "cell_type": "code",
   "execution_count": 15,
   "id": "63dc2f15-51de-448b-b11c-efd39480a674",
   "metadata": {},
   "outputs": [
    {
     "data": {
      "text/plain": [
       "<AxesSubplot:xlabel='Rating.Overall'>"
      ]
     },
     "execution_count": 15,
     "metadata": {},
     "output_type": "execute_result"
    },
    {
     "data": {
      "image/png": "[encoded data removed]",
      "text/plain": [
       "<Figure size 432x288 with 1 Axes>"
      ]
     },
     "metadata": {
      "needs_background": "light"
     },
     "output_type": "display_data"
    }
   ],
   "source": [
    "sc_df.groupby('Rating.Overall')[['Procedure.Heart Attack.Cost']].mean().plot(kind = 'line')\n",
    "#line plot showing the change in cost of procedure of heart attack across hospitals of different overall ratings  "
   ]
  },
  {
   "cell_type": "markdown",
   "id": "74d8b888-eafd-47a9-99ec-9ecf9242781f",
   "metadata": {},
   "source": [
    "### Earthquakes Dataset"
   ]
  },
  {
   "cell_type": "code",
   "execution_count": 16,
   "id": "cb18e124-b2f0-472d-b0cd-42f5c275cc6a",
   "metadata": {},
   "outputs": [
    {
     "data": {
      "text/plain": [
       "Index(['id', 'impact.gap', 'impact.magnitude', 'impact.significance',\n",
       "       'location.depth', 'location.distance', 'location.full',\n",
       "       'location.latitude', 'location.longitude', 'location.name', 'time.day',\n",
       "       'time.epoch', 'time.full', 'time.hour', 'time.minute', 'time.month',\n",
       "       'time.second', 'time.year'],\n",
       "      dtype='object')"
      ]
     },
     "execution_count": 16,
     "metadata": {},
     "output_type": "execute_result"
    }
   ],
   "source": [
    "eq_df = corgis('Earthquakes')\n",
    "eq_df.columns"
   ]
  },
  {
   "cell_type": "code",
   "execution_count": 17,
   "id": "70a480cc-e32f-4d2a-a74c-e87fb74b88e5",
   "metadata": {},
   "outputs": [
    {
     "data": {
      "text/plain": [
       "<AxesSubplot:ylabel='Frequency'>"
      ]
     },
     "execution_count": 17,
     "metadata": {},
     "output_type": "execute_result"
    },
    {
     "data": {
      "image/png": "[encoded data removed]",
      "text/plain": [
       "<Figure size 432x288 with 1 Axes>"
      ]
     },
     "metadata": {
      "needs_background": "light"
     },
     "output_type": "display_data"
    }
   ],
   "source": [
    "earthquakes = pd.DataFrame ({'impact.magnitude' : eq_df['impact.magnitude']})\n",
    "earthquakes.plot(kind = 'hist') \n",
    "#histogram showing the frequency of earthquakes for each magnitude level"
   ]
  },
  {
   "cell_type": "code",
   "execution_count": null,
   "id": "dc106823-89f4-44e5-9b03-e0c314284308",
   "metadata": {},
   "outputs": [],
   "source": []
  }
 ],
 "metadata": {
  "kernelspec": {
   "display_name": "Python 3 (ipykernel)",
   "language": "python",
   "name": "python3"
  },
  "language_info": {
   "codemirror_mode": {
    "name": "ipython",
    "version": 3
   },
   "file_extension": ".py",
   "mimetype": "text/x-python",
   "name": "python",
   "nbconvert_exporter": "python",
   "pygments_lexer": "ipython3",
   "version": "3.9.6"
  }
 },
 "nbformat": 4,
 "nbformat_minor": 5
}
